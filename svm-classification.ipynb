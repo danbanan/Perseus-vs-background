{
 "cells": [
  {
   "cell_type": "markdown",
   "metadata": {},
   "source": [
    "## Machine Learning Classifaction\n",
    "1. Support Vector Machine SVM\n",
    "\n",
    "One of the advantages of sVM is that it is very effective in high dimensional spaces. \n",
    "\n",
    "We will not use PCA on the training sets to reduce the number of dimensions for SVM."
   ]
  },
  {
   "cell_type": "code",
   "execution_count": 1,
   "metadata": {},
   "outputs": [],
   "source": [
    "from sklearn import svm\n",
    "from sklearn.model_selection import GridSearchCV\n",
    "from sklearn.model_selection import train_test_split\n",
    "from sklearn.feature_selection import SelectKBest\n",
    "from sklearn.feature_selection import chi2\n",
    "from sklearn.ensemble import ExtraTreesClassifier\n",
    "from sklearn.model_selection import cross_val_score\n",
    "import numpy as np\n",
    "import pandas as pd\n",
    "import matplotlib.pyplot as plt\n",
    "import seaborn as sns"
   ]
  },
  {
   "cell_type": "code",
   "execution_count": 2,
   "metadata": {},
   "outputs": [
    {
     "data": {
      "text/html": [
       "<div>\n",
       "<style scoped>\n",
       "    .dataframe tbody tr th:only-of-type {\n",
       "        vertical-align: middle;\n",
       "    }\n",
       "\n",
       "    .dataframe tbody tr th {\n",
       "        vertical-align: top;\n",
       "    }\n",
       "\n",
       "    .dataframe thead th {\n",
       "        text-align: right;\n",
       "    }\n",
       "</style>\n",
       "<table border=\"1\" class=\"dataframe\">\n",
       "  <thead>\n",
       "    <tr style=\"text-align: right;\">\n",
       "      <th></th>\n",
       "      <th>psfMag_u0</th>\n",
       "      <th>psfMag_g0</th>\n",
       "      <th>psfMag_r0</th>\n",
       "      <th>psfMag_i0</th>\n",
       "      <th>psfMag_z0</th>\n",
       "      <th>fiberMag_u0</th>\n",
       "      <th>fiberMag_g0</th>\n",
       "      <th>fiberMag_r0</th>\n",
       "      <th>fiberMag_i0</th>\n",
       "      <th>fiberMag_z0</th>\n",
       "      <th>...</th>\n",
       "      <th>fracDeV_u</th>\n",
       "      <th>fracDeV_g</th>\n",
       "      <th>fracDeV_r</th>\n",
       "      <th>fracDeV_i</th>\n",
       "      <th>fracDeV_z</th>\n",
       "      <th>dered_u</th>\n",
       "      <th>dered_g</th>\n",
       "      <th>dered_r</th>\n",
       "      <th>dered_i</th>\n",
       "      <th>dered_z</th>\n",
       "    </tr>\n",
       "  </thead>\n",
       "  <tbody>\n",
       "    <tr>\n",
       "      <th>0</th>\n",
       "      <td>21.08928</td>\n",
       "      <td>19.37086</td>\n",
       "      <td>18.25864</td>\n",
       "      <td>17.81117</td>\n",
       "      <td>17.51476</td>\n",
       "      <td>21.25800</td>\n",
       "      <td>19.36015</td>\n",
       "      <td>18.24822</td>\n",
       "      <td>17.80149</td>\n",
       "      <td>17.45830</td>\n",
       "      <td>...</td>\n",
       "      <td>1.000000</td>\n",
       "      <td>1.000000</td>\n",
       "      <td>1.000000</td>\n",
       "      <td>1.000000</td>\n",
       "      <td>1.000000</td>\n",
       "      <td>20.13362</td>\n",
       "      <td>18.32410</td>\n",
       "      <td>17.19614</td>\n",
       "      <td>16.74197</td>\n",
       "      <td>16.40898</td>\n",
       "    </tr>\n",
       "    <tr>\n",
       "      <th>1</th>\n",
       "      <td>21.41094</td>\n",
       "      <td>19.66853</td>\n",
       "      <td>19.04671</td>\n",
       "      <td>18.49730</td>\n",
       "      <td>18.12082</td>\n",
       "      <td>21.32957</td>\n",
       "      <td>19.64395</td>\n",
       "      <td>18.69971</td>\n",
       "      <td>18.21872</td>\n",
       "      <td>17.81517</td>\n",
       "      <td>...</td>\n",
       "      <td>0.000000</td>\n",
       "      <td>0.048899</td>\n",
       "      <td>0.111197</td>\n",
       "      <td>0.102860</td>\n",
       "      <td>0.200284</td>\n",
       "      <td>18.94811</td>\n",
       "      <td>17.26758</td>\n",
       "      <td>16.39990</td>\n",
       "      <td>15.94577</td>\n",
       "      <td>15.60334</td>\n",
       "    </tr>\n",
       "    <tr>\n",
       "      <th>2</th>\n",
       "      <td>21.27979</td>\n",
       "      <td>19.46498</td>\n",
       "      <td>18.33810</td>\n",
       "      <td>17.92343</td>\n",
       "      <td>17.63418</td>\n",
       "      <td>21.25036</td>\n",
       "      <td>19.44884</td>\n",
       "      <td>18.34415</td>\n",
       "      <td>17.88955</td>\n",
       "      <td>17.55409</td>\n",
       "      <td>...</td>\n",
       "      <td>1.000000</td>\n",
       "      <td>1.000000</td>\n",
       "      <td>1.000000</td>\n",
       "      <td>1.000000</td>\n",
       "      <td>1.000000</td>\n",
       "      <td>20.15441</td>\n",
       "      <td>18.22609</td>\n",
       "      <td>17.11155</td>\n",
       "      <td>16.65807</td>\n",
       "      <td>16.33635</td>\n",
       "    </tr>\n",
       "    <tr>\n",
       "      <th>3</th>\n",
       "      <td>20.79575</td>\n",
       "      <td>18.89698</td>\n",
       "      <td>17.82768</td>\n",
       "      <td>17.38629</td>\n",
       "      <td>17.21747</td>\n",
       "      <td>20.79277</td>\n",
       "      <td>18.79881</td>\n",
       "      <td>17.79642</td>\n",
       "      <td>17.37555</td>\n",
       "      <td>17.02053</td>\n",
       "      <td>...</td>\n",
       "      <td>1.000000</td>\n",
       "      <td>0.930281</td>\n",
       "      <td>0.932025</td>\n",
       "      <td>0.997685</td>\n",
       "      <td>1.000000</td>\n",
       "      <td>19.56097</td>\n",
       "      <td>17.58059</td>\n",
       "      <td>16.57519</td>\n",
       "      <td>16.14223</td>\n",
       "      <td>15.82258</td>\n",
       "    </tr>\n",
       "    <tr>\n",
       "      <th>4</th>\n",
       "      <td>19.69155</td>\n",
       "      <td>17.76127</td>\n",
       "      <td>16.98154</td>\n",
       "      <td>16.55225</td>\n",
       "      <td>16.24577</td>\n",
       "      <td>19.77281</td>\n",
       "      <td>17.82529</td>\n",
       "      <td>16.89516</td>\n",
       "      <td>16.47335</td>\n",
       "      <td>16.13554</td>\n",
       "      <td>...</td>\n",
       "      <td>0.951221</td>\n",
       "      <td>0.916555</td>\n",
       "      <td>0.941605</td>\n",
       "      <td>0.954829</td>\n",
       "      <td>0.975430</td>\n",
       "      <td>18.35271</td>\n",
       "      <td>16.36183</td>\n",
       "      <td>15.47458</td>\n",
       "      <td>15.03607</td>\n",
       "      <td>14.70395</td>\n",
       "    </tr>\n",
       "  </tbody>\n",
       "</table>\n",
       "<p>5 rows × 135 columns</p>\n",
       "</div>"
      ],
      "text/plain": [
       "   psfMag_u0  psfMag_g0  psfMag_r0  psfMag_i0  psfMag_z0  fiberMag_u0  \\\n",
       "0   21.08928   19.37086   18.25864   17.81117   17.51476     21.25800   \n",
       "1   21.41094   19.66853   19.04671   18.49730   18.12082     21.32957   \n",
       "2   21.27979   19.46498   18.33810   17.92343   17.63418     21.25036   \n",
       "3   20.79575   18.89698   17.82768   17.38629   17.21747     20.79277   \n",
       "4   19.69155   17.76127   16.98154   16.55225   16.24577     19.77281   \n",
       "\n",
       "   fiberMag_g0  fiberMag_r0  fiberMag_i0  fiberMag_z0  ...  fracDeV_u  \\\n",
       "0     19.36015     18.24822     17.80149     17.45830  ...   1.000000   \n",
       "1     19.64395     18.69971     18.21872     17.81517  ...   0.000000   \n",
       "2     19.44884     18.34415     17.88955     17.55409  ...   1.000000   \n",
       "3     18.79881     17.79642     17.37555     17.02053  ...   1.000000   \n",
       "4     17.82529     16.89516     16.47335     16.13554  ...   0.951221   \n",
       "\n",
       "   fracDeV_g  fracDeV_r  fracDeV_i  fracDeV_z   dered_u   dered_g   dered_r  \\\n",
       "0   1.000000   1.000000   1.000000   1.000000  20.13362  18.32410  17.19614   \n",
       "1   0.048899   0.111197   0.102860   0.200284  18.94811  17.26758  16.39990   \n",
       "2   1.000000   1.000000   1.000000   1.000000  20.15441  18.22609  17.11155   \n",
       "3   0.930281   0.932025   0.997685   1.000000  19.56097  17.58059  16.57519   \n",
       "4   0.916555   0.941605   0.954829   0.975430  18.35271  16.36183  15.47458   \n",
       "\n",
       "    dered_i   dered_z  \n",
       "0  16.74197  16.40898  \n",
       "1  15.94577  15.60334  \n",
       "2  16.65807  16.33635  \n",
       "3  16.14223  15.82258  \n",
       "4  15.03607  14.70395  \n",
       "\n",
       "[5 rows x 135 columns]"
      ]
     },
     "execution_count": 2,
     "metadata": {},
     "output_type": "execute_result"
    }
   ],
   "source": [
    "#The Background Dataset\n",
    "background = pd.read_csv('./datasets/training/background-giants.csv')\n",
    "background = background.drop_duplicates(subset=['objID'])\n",
    "background_id = background[['objID', 'ra', 'dec']]\n",
    "\n",
    "#Dropping the irrelevant features for training SVM model.\n",
    "background = background.drop(['objID','objID1','ra','dec'], axis=1)\n",
    "background.head()"
   ]
  },
  {
   "cell_type": "code",
   "execution_count": 3,
   "metadata": {},
   "outputs": [
    {
     "data": {
      "text/html": [
       "<div>\n",
       "<style scoped>\n",
       "    .dataframe tbody tr th:only-of-type {\n",
       "        vertical-align: middle;\n",
       "    }\n",
       "\n",
       "    .dataframe tbody tr th {\n",
       "        vertical-align: top;\n",
       "    }\n",
       "\n",
       "    .dataframe thead th {\n",
       "        text-align: right;\n",
       "    }\n",
       "</style>\n",
       "<table border=\"1\" class=\"dataframe\">\n",
       "  <thead>\n",
       "    <tr style=\"text-align: right;\">\n",
       "      <th></th>\n",
       "      <th>psfMag_u0</th>\n",
       "      <th>psfMag_g0</th>\n",
       "      <th>psfMag_r0</th>\n",
       "      <th>psfMag_i0</th>\n",
       "      <th>psfMag_z0</th>\n",
       "      <th>fiberMag_u0</th>\n",
       "      <th>fiberMag_g0</th>\n",
       "      <th>fiberMag_r0</th>\n",
       "      <th>fiberMag_i0</th>\n",
       "      <th>fiberMag_z0</th>\n",
       "      <th>...</th>\n",
       "      <th>fracDeV_u</th>\n",
       "      <th>fracDeV_g</th>\n",
       "      <th>fracDeV_r</th>\n",
       "      <th>fracDeV_i</th>\n",
       "      <th>fracDeV_z</th>\n",
       "      <th>dered_u</th>\n",
       "      <th>dered_g</th>\n",
       "      <th>dered_r</th>\n",
       "      <th>dered_i</th>\n",
       "      <th>dered_z</th>\n",
       "    </tr>\n",
       "  </thead>\n",
       "  <tbody>\n",
       "    <tr>\n",
       "      <th>0</th>\n",
       "      <td>20.68459</td>\n",
       "      <td>20.32490</td>\n",
       "      <td>19.90491</td>\n",
       "      <td>19.65816</td>\n",
       "      <td>19.58863</td>\n",
       "      <td>20.93056</td>\n",
       "      <td>19.84648</td>\n",
       "      <td>19.39435</td>\n",
       "      <td>19.13173</td>\n",
       "      <td>18.93974</td>\n",
       "      <td>...</td>\n",
       "      <td>0.000000</td>\n",
       "      <td>0.000000</td>\n",
       "      <td>0.000000</td>\n",
       "      <td>0.000000</td>\n",
       "      <td>0.024766</td>\n",
       "      <td>17.14250</td>\n",
       "      <td>16.04856</td>\n",
       "      <td>15.63828</td>\n",
       "      <td>15.42416</td>\n",
       "      <td>15.29288</td>\n",
       "    </tr>\n",
       "    <tr>\n",
       "      <th>1</th>\n",
       "      <td>20.38590</td>\n",
       "      <td>18.79545</td>\n",
       "      <td>18.40734</td>\n",
       "      <td>18.01583</td>\n",
       "      <td>17.85035</td>\n",
       "      <td>20.31682</td>\n",
       "      <td>18.76537</td>\n",
       "      <td>18.05824</td>\n",
       "      <td>17.72758</td>\n",
       "      <td>17.45851</td>\n",
       "      <td>...</td>\n",
       "      <td>0.132033</td>\n",
       "      <td>0.252313</td>\n",
       "      <td>0.271305</td>\n",
       "      <td>0.262290</td>\n",
       "      <td>0.388589</td>\n",
       "      <td>18.42509</td>\n",
       "      <td>16.79932</td>\n",
       "      <td>16.11763</td>\n",
       "      <td>15.77143</td>\n",
       "      <td>15.49772</td>\n",
       "    </tr>\n",
       "    <tr>\n",
       "      <th>2</th>\n",
       "      <td>20.37486</td>\n",
       "      <td>19.15429</td>\n",
       "      <td>18.46381</td>\n",
       "      <td>18.16368</td>\n",
       "      <td>18.04567</td>\n",
       "      <td>20.36893</td>\n",
       "      <td>18.84602</td>\n",
       "      <td>18.14171</td>\n",
       "      <td>17.79829</td>\n",
       "      <td>17.57360</td>\n",
       "      <td>...</td>\n",
       "      <td>0.059789</td>\n",
       "      <td>0.199078</td>\n",
       "      <td>0.165721</td>\n",
       "      <td>0.215467</td>\n",
       "      <td>0.192362</td>\n",
       "      <td>18.37703</td>\n",
       "      <td>16.79943</td>\n",
       "      <td>16.09405</td>\n",
       "      <td>15.74896</td>\n",
       "      <td>15.51344</td>\n",
       "    </tr>\n",
       "    <tr>\n",
       "      <th>3</th>\n",
       "      <td>20.10566</td>\n",
       "      <td>18.50956</td>\n",
       "      <td>17.90357</td>\n",
       "      <td>17.60673</td>\n",
       "      <td>17.37036</td>\n",
       "      <td>20.09557</td>\n",
       "      <td>18.56411</td>\n",
       "      <td>17.81530</td>\n",
       "      <td>17.47781</td>\n",
       "      <td>17.24816</td>\n",
       "      <td>...</td>\n",
       "      <td>0.863581</td>\n",
       "      <td>0.726548</td>\n",
       "      <td>0.861712</td>\n",
       "      <td>0.876894</td>\n",
       "      <td>0.829082</td>\n",
       "      <td>17.90406</td>\n",
       "      <td>16.35933</td>\n",
       "      <td>15.61268</td>\n",
       "      <td>15.26653</td>\n",
       "      <td>15.02099</td>\n",
       "    </tr>\n",
       "    <tr>\n",
       "      <th>4</th>\n",
       "      <td>20.55464</td>\n",
       "      <td>18.93523</td>\n",
       "      <td>18.13289</td>\n",
       "      <td>17.79406</td>\n",
       "      <td>17.84563</td>\n",
       "      <td>20.42518</td>\n",
       "      <td>18.61701</td>\n",
       "      <td>17.89809</td>\n",
       "      <td>17.54489</td>\n",
       "      <td>17.28442</td>\n",
       "      <td>...</td>\n",
       "      <td>0.243175</td>\n",
       "      <td>0.357629</td>\n",
       "      <td>0.358013</td>\n",
       "      <td>0.392165</td>\n",
       "      <td>0.397820</td>\n",
       "      <td>18.33514</td>\n",
       "      <td>16.66942</td>\n",
       "      <td>15.94401</td>\n",
       "      <td>15.56867</td>\n",
       "      <td>15.34149</td>\n",
       "    </tr>\n",
       "  </tbody>\n",
       "</table>\n",
       "<p>5 rows × 135 columns</p>\n",
       "</div>"
      ],
      "text/plain": [
       "   psfMag_u0  psfMag_g0  psfMag_r0  psfMag_i0  psfMag_z0  fiberMag_u0  \\\n",
       "0   20.68459   20.32490   19.90491   19.65816   19.58863     20.93056   \n",
       "1   20.38590   18.79545   18.40734   18.01583   17.85035     20.31682   \n",
       "2   20.37486   19.15429   18.46381   18.16368   18.04567     20.36893   \n",
       "3   20.10566   18.50956   17.90357   17.60673   17.37036     20.09557   \n",
       "4   20.55464   18.93523   18.13289   17.79406   17.84563     20.42518   \n",
       "\n",
       "   fiberMag_g0  fiberMag_r0  fiberMag_i0  fiberMag_z0  ...  fracDeV_u  \\\n",
       "0     19.84648     19.39435     19.13173     18.93974  ...   0.000000   \n",
       "1     18.76537     18.05824     17.72758     17.45851  ...   0.132033   \n",
       "2     18.84602     18.14171     17.79829     17.57360  ...   0.059789   \n",
       "3     18.56411     17.81530     17.47781     17.24816  ...   0.863581   \n",
       "4     18.61701     17.89809     17.54489     17.28442  ...   0.243175   \n",
       "\n",
       "   fracDeV_g  fracDeV_r  fracDeV_i  fracDeV_z   dered_u   dered_g   dered_r  \\\n",
       "0   0.000000   0.000000   0.000000   0.024766  17.14250  16.04856  15.63828   \n",
       "1   0.252313   0.271305   0.262290   0.388589  18.42509  16.79932  16.11763   \n",
       "2   0.199078   0.165721   0.215467   0.192362  18.37703  16.79943  16.09405   \n",
       "3   0.726548   0.861712   0.876894   0.829082  17.90406  16.35933  15.61268   \n",
       "4   0.357629   0.358013   0.392165   0.397820  18.33514  16.66942  15.94401   \n",
       "\n",
       "    dered_i   dered_z  \n",
       "0  15.42416  15.29288  \n",
       "1  15.77143  15.49772  \n",
       "2  15.74896  15.51344  \n",
       "3  15.26653  15.02099  \n",
       "4  15.56867  15.34149  \n",
       "\n",
       "[5 rows x 135 columns]"
      ]
     },
     "execution_count": 3,
     "metadata": {},
     "output_type": "execute_result"
    }
   ],
   "source": [
    "#The Foreground Dataset\n",
    "foreground = pd.read_csv('./datasets/training/foreground-dwarfs.csv')\n",
    "\n",
    "foreground_id = foreground[['objID', 'ra', 'dec']]\n",
    "\n",
    "#Droping the unuseful objID that comes with CrossID\n",
    "foreground = foreground.drop(['objID','objID1','ra','dec'], axis=1)\n",
    "foreground.head()"
   ]
  },
  {
   "cell_type": "code",
   "execution_count": 4,
   "metadata": {},
   "outputs": [
    {
     "data": {
      "text/html": [
       "<div>\n",
       "<style scoped>\n",
       "    .dataframe tbody tr th:only-of-type {\n",
       "        vertical-align: middle;\n",
       "    }\n",
       "\n",
       "    .dataframe tbody tr th {\n",
       "        vertical-align: top;\n",
       "    }\n",
       "\n",
       "    .dataframe thead th {\n",
       "        text-align: right;\n",
       "    }\n",
       "</style>\n",
       "<table border=\"1\" class=\"dataframe\">\n",
       "  <thead>\n",
       "    <tr style=\"text-align: right;\">\n",
       "      <th></th>\n",
       "      <th>objID</th>\n",
       "      <th>ra</th>\n",
       "      <th>dec</th>\n",
       "    </tr>\n",
       "  </thead>\n",
       "  <tbody>\n",
       "    <tr>\n",
       "      <th>0</th>\n",
       "      <td>1237680311772250464</td>\n",
       "      <td>16.765005</td>\n",
       "      <td>32.389555</td>\n",
       "    </tr>\n",
       "    <tr>\n",
       "      <th>1</th>\n",
       "      <td>1237680315521237319</td>\n",
       "      <td>16.792826</td>\n",
       "      <td>32.346872</td>\n",
       "    </tr>\n",
       "    <tr>\n",
       "      <th>2</th>\n",
       "      <td>1237680311772250198</td>\n",
       "      <td>16.685466</td>\n",
       "      <td>32.418586</td>\n",
       "    </tr>\n",
       "    <tr>\n",
       "      <th>3</th>\n",
       "      <td>1237680315521302864</td>\n",
       "      <td>16.966691</td>\n",
       "      <td>32.256108</td>\n",
       "    </tr>\n",
       "    <tr>\n",
       "      <th>4</th>\n",
       "      <td>1237680311772381486</td>\n",
       "      <td>17.066149</td>\n",
       "      <td>32.499011</td>\n",
       "    </tr>\n",
       "  </tbody>\n",
       "</table>\n",
       "</div>"
      ],
      "text/plain": [
       "                 objID         ra        dec\n",
       "0  1237680311772250464  16.765005  32.389555\n",
       "1  1237680315521237319  16.792826  32.346872\n",
       "2  1237680311772250198  16.685466  32.418586\n",
       "3  1237680315521302864  16.966691  32.256108\n",
       "4  1237680311772381486  17.066149  32.499011"
      ]
     },
     "execution_count": 4,
     "metadata": {},
     "output_type": "execute_result"
    }
   ],
   "source": [
    "# Keep concatenated id when for later merge\n",
    "galaxies_id = pd.concat([foreground_id,background_id])\n",
    "galaxies_id.head()"
   ]
  },
  {
   "cell_type": "code",
   "execution_count": 5,
   "metadata": {},
   "outputs": [],
   "source": [
    "#Adding the column that labels these as the background\n",
    "#In this case the label for background is 0 and \n",
    "#foreground will be 1\n",
    "background['label'] = 0\n",
    "foreground['label'] = 1"
   ]
  },
  {
   "cell_type": "code",
   "execution_count": 6,
   "metadata": {},
   "outputs": [
    {
     "data": {
      "text/html": [
       "<div>\n",
       "<style scoped>\n",
       "    .dataframe tbody tr th:only-of-type {\n",
       "        vertical-align: middle;\n",
       "    }\n",
       "\n",
       "    .dataframe tbody tr th {\n",
       "        vertical-align: top;\n",
       "    }\n",
       "\n",
       "    .dataframe thead th {\n",
       "        text-align: right;\n",
       "    }\n",
       "</style>\n",
       "<table border=\"1\" class=\"dataframe\">\n",
       "  <thead>\n",
       "    <tr style=\"text-align: right;\">\n",
       "      <th></th>\n",
       "      <th>psfMag_u0</th>\n",
       "      <th>psfMag_g0</th>\n",
       "      <th>psfMag_r0</th>\n",
       "      <th>psfMag_i0</th>\n",
       "      <th>psfMag_z0</th>\n",
       "      <th>fiberMag_u0</th>\n",
       "      <th>fiberMag_g0</th>\n",
       "      <th>fiberMag_r0</th>\n",
       "      <th>fiberMag_i0</th>\n",
       "      <th>fiberMag_z0</th>\n",
       "      <th>...</th>\n",
       "      <th>fracDeV_g</th>\n",
       "      <th>fracDeV_r</th>\n",
       "      <th>fracDeV_i</th>\n",
       "      <th>fracDeV_z</th>\n",
       "      <th>dered_u</th>\n",
       "      <th>dered_g</th>\n",
       "      <th>dered_r</th>\n",
       "      <th>dered_i</th>\n",
       "      <th>dered_z</th>\n",
       "      <th>label</th>\n",
       "    </tr>\n",
       "  </thead>\n",
       "  <tbody>\n",
       "    <tr>\n",
       "      <th>0</th>\n",
       "      <td>20.68459</td>\n",
       "      <td>20.32490</td>\n",
       "      <td>19.90491</td>\n",
       "      <td>19.65816</td>\n",
       "      <td>19.58863</td>\n",
       "      <td>20.93056</td>\n",
       "      <td>19.84648</td>\n",
       "      <td>19.39435</td>\n",
       "      <td>19.13173</td>\n",
       "      <td>18.93974</td>\n",
       "      <td>...</td>\n",
       "      <td>0.000000</td>\n",
       "      <td>0.000000</td>\n",
       "      <td>0.000000</td>\n",
       "      <td>0.024766</td>\n",
       "      <td>17.14250</td>\n",
       "      <td>16.04856</td>\n",
       "      <td>15.63828</td>\n",
       "      <td>15.42416</td>\n",
       "      <td>15.29288</td>\n",
       "      <td>1</td>\n",
       "    </tr>\n",
       "    <tr>\n",
       "      <th>1</th>\n",
       "      <td>20.38590</td>\n",
       "      <td>18.79545</td>\n",
       "      <td>18.40734</td>\n",
       "      <td>18.01583</td>\n",
       "      <td>17.85035</td>\n",
       "      <td>20.31682</td>\n",
       "      <td>18.76537</td>\n",
       "      <td>18.05824</td>\n",
       "      <td>17.72758</td>\n",
       "      <td>17.45851</td>\n",
       "      <td>...</td>\n",
       "      <td>0.252313</td>\n",
       "      <td>0.271305</td>\n",
       "      <td>0.262290</td>\n",
       "      <td>0.388589</td>\n",
       "      <td>18.42509</td>\n",
       "      <td>16.79932</td>\n",
       "      <td>16.11763</td>\n",
       "      <td>15.77143</td>\n",
       "      <td>15.49772</td>\n",
       "      <td>1</td>\n",
       "    </tr>\n",
       "    <tr>\n",
       "      <th>2</th>\n",
       "      <td>20.37486</td>\n",
       "      <td>19.15429</td>\n",
       "      <td>18.46381</td>\n",
       "      <td>18.16368</td>\n",
       "      <td>18.04567</td>\n",
       "      <td>20.36893</td>\n",
       "      <td>18.84602</td>\n",
       "      <td>18.14171</td>\n",
       "      <td>17.79829</td>\n",
       "      <td>17.57360</td>\n",
       "      <td>...</td>\n",
       "      <td>0.199078</td>\n",
       "      <td>0.165721</td>\n",
       "      <td>0.215467</td>\n",
       "      <td>0.192362</td>\n",
       "      <td>18.37703</td>\n",
       "      <td>16.79943</td>\n",
       "      <td>16.09405</td>\n",
       "      <td>15.74896</td>\n",
       "      <td>15.51344</td>\n",
       "      <td>1</td>\n",
       "    </tr>\n",
       "    <tr>\n",
       "      <th>3</th>\n",
       "      <td>20.10566</td>\n",
       "      <td>18.50956</td>\n",
       "      <td>17.90357</td>\n",
       "      <td>17.60673</td>\n",
       "      <td>17.37036</td>\n",
       "      <td>20.09557</td>\n",
       "      <td>18.56411</td>\n",
       "      <td>17.81530</td>\n",
       "      <td>17.47781</td>\n",
       "      <td>17.24816</td>\n",
       "      <td>...</td>\n",
       "      <td>0.726548</td>\n",
       "      <td>0.861712</td>\n",
       "      <td>0.876894</td>\n",
       "      <td>0.829082</td>\n",
       "      <td>17.90406</td>\n",
       "      <td>16.35933</td>\n",
       "      <td>15.61268</td>\n",
       "      <td>15.26653</td>\n",
       "      <td>15.02099</td>\n",
       "      <td>1</td>\n",
       "    </tr>\n",
       "    <tr>\n",
       "      <th>4</th>\n",
       "      <td>20.55464</td>\n",
       "      <td>18.93523</td>\n",
       "      <td>18.13289</td>\n",
       "      <td>17.79406</td>\n",
       "      <td>17.84563</td>\n",
       "      <td>20.42518</td>\n",
       "      <td>18.61701</td>\n",
       "      <td>17.89809</td>\n",
       "      <td>17.54489</td>\n",
       "      <td>17.28442</td>\n",
       "      <td>...</td>\n",
       "      <td>0.357629</td>\n",
       "      <td>0.358013</td>\n",
       "      <td>0.392165</td>\n",
       "      <td>0.397820</td>\n",
       "      <td>18.33514</td>\n",
       "      <td>16.66942</td>\n",
       "      <td>15.94401</td>\n",
       "      <td>15.56867</td>\n",
       "      <td>15.34149</td>\n",
       "      <td>1</td>\n",
       "    </tr>\n",
       "  </tbody>\n",
       "</table>\n",
       "<p>5 rows × 136 columns</p>\n",
       "</div>"
      ],
      "text/plain": [
       "   psfMag_u0  psfMag_g0  psfMag_r0  psfMag_i0  psfMag_z0  fiberMag_u0  \\\n",
       "0   20.68459   20.32490   19.90491   19.65816   19.58863     20.93056   \n",
       "1   20.38590   18.79545   18.40734   18.01583   17.85035     20.31682   \n",
       "2   20.37486   19.15429   18.46381   18.16368   18.04567     20.36893   \n",
       "3   20.10566   18.50956   17.90357   17.60673   17.37036     20.09557   \n",
       "4   20.55464   18.93523   18.13289   17.79406   17.84563     20.42518   \n",
       "\n",
       "   fiberMag_g0  fiberMag_r0  fiberMag_i0  fiberMag_z0  ...  fracDeV_g  \\\n",
       "0     19.84648     19.39435     19.13173     18.93974  ...   0.000000   \n",
       "1     18.76537     18.05824     17.72758     17.45851  ...   0.252313   \n",
       "2     18.84602     18.14171     17.79829     17.57360  ...   0.199078   \n",
       "3     18.56411     17.81530     17.47781     17.24816  ...   0.726548   \n",
       "4     18.61701     17.89809     17.54489     17.28442  ...   0.357629   \n",
       "\n",
       "   fracDeV_r  fracDeV_i  fracDeV_z   dered_u   dered_g   dered_r   dered_i  \\\n",
       "0   0.000000   0.000000   0.024766  17.14250  16.04856  15.63828  15.42416   \n",
       "1   0.271305   0.262290   0.388589  18.42509  16.79932  16.11763  15.77143   \n",
       "2   0.165721   0.215467   0.192362  18.37703  16.79943  16.09405  15.74896   \n",
       "3   0.861712   0.876894   0.829082  17.90406  16.35933  15.61268  15.26653   \n",
       "4   0.358013   0.392165   0.397820  18.33514  16.66942  15.94401  15.56867   \n",
       "\n",
       "    dered_z  label  \n",
       "0  15.29288      1  \n",
       "1  15.49772      1  \n",
       "2  15.51344      1  \n",
       "3  15.02099      1  \n",
       "4  15.34149      1  \n",
       "\n",
       "[5 rows x 136 columns]"
      ]
     },
     "execution_count": 6,
     "metadata": {},
     "output_type": "execute_result"
    }
   ],
   "source": [
    "# The foreground and background sets now have to be concated together and have the label column removed as a seperate \n",
    "# array to perform SVM.\n",
    "galaxies = pd.concat([foreground,background])\n",
    "galaxies.head()"
   ]
  },
  {
   "cell_type": "markdown",
   "metadata": {},
   "source": [
    "https://towardsdatascience.com/feature-selection-techniques-in-machine-learning-with-python-f24e7da3f36e\n",
    "\n",
    "We need to do some feature engineering before building a model:\n",
    "1. Univariate Selection\n",
    "2. Feature Importance\n",
    "3. Correlation Matrix with Heatmap"
   ]
  },
  {
   "cell_type": "code",
   "execution_count": 7,
   "metadata": {},
   "outputs": [
    {
     "data": {
      "image/png": "[encoded data removed]",
      "text/plain": [
       "<Figure size 504x360 with 1 Axes>"
      ]
     },
     "metadata": {
      "needs_background": "light"
     },
     "output_type": "display_data"
    }
   ],
   "source": [
    "# Univariate selection can be used to select those features that have the strongest relationship with the output \n",
    "# variable.\n",
    "X = galaxies.drop(['label'], axis=1) # Independent columns\n",
    "X = X.abs() # Removing negative values\n",
    "y = galaxies['label'] # Target column, galaxy type\n",
    "\n",
    "# Applying SelectKBest to extract top 10 best features\n",
    "best_features = SelectKBest(score_func=chi2, k=10)\n",
    "fit = best_features.fit(X, y)\n",
    "dfscores = pd.DataFrame(fit.scores_)\n",
    "dfcolumns = pd.DataFrame(X.columns)\n",
    "features_scores = pd.concat([dfcolumns, dfscores], axis=1) # Concatenate dataframes for better visualization\n",
    "features_scores.columns = ['Feature', 'Score'] # Naming dataframe columns\n",
    "features_scores.nlargest(10, 'Score').plot(x='Feature', y='Score', kind='barh', figsize=(7, 5))\n",
    "plt.show()\n",
    "# print(features_scores.nlargest(10, 'Score')) # Print 10 best features"
   ]
  },
  {
   "cell_type": "code",
   "execution_count": 8,
   "metadata": {},
   "outputs": [
    {
     "name": "stderr",
     "output_type": "stream",
     "text": [
      "/Users/danrachou/Documents/anaconda3/lib/python3.6/site-packages/sklearn/ensemble/forest.py:246: FutureWarning: The default value of n_estimators will change from 10 in version 0.20 to 100 in 0.22.\n",
      "  \"10 in version 0.20 to 100 in 0.22.\", FutureWarning)\n"
     ]
    },
    {
     "data": {
      "image/png": "[encoded data removed]",
      "text/plain": [
       "<Figure size 504x360 with 1 Axes>"
      ]
     },
     "metadata": {
      "needs_background": "light"
     },
     "output_type": "display_data"
    }
   ],
   "source": [
    "# Feature importance gives you a score for each feature of your data, the higher the score more important or relevant\n",
    "# is the feature towards your output variable.\n",
    "X = galaxies.drop(['label'], axis=1) # Independent columns\n",
    "y = galaxies['label'] # Target column, galaxy type\n",
    "model = ExtraTreesClassifier()\n",
    "model.fit(X, y)\n",
    "\n",
    "# Plot graph of feature importances to for better visualization\n",
    "# feature_importances_ is a inbuilt class\n",
    "#feat_importances = pd.Series(model.feature_importances_, index=X.columns)\n",
    "dfscores = pd.DataFrame(model.feature_importances_)\n",
    "dfcolumns = pd.DataFrame(X.columns)\n",
    "feat_importances = pd.concat([dfcolumns, dfscores], axis=1)\n",
    "feat_importances.columns = ['Feature', 'Score']\n",
    "feat_importances.nlargest(10, 'Score').plot(x='Feature', y='Score', kind='barh', figsize=(7, 5))\n",
    "plt.show()"
   ]
  },
  {
   "cell_type": "code",
   "execution_count": 9,
   "metadata": {},
   "outputs": [
    {
     "data": {
      "text/plain": [
       "123     aperFlux7_i\n",
       "122     aperFlux7_r\n",
       "120     aperFlux7_u\n",
       "124     aperFlux7_z\n",
       "117    cModelMag_r0\n",
       "95        deVMag_u0\n",
       "86         deVRad_g\n",
       "88         deVRad_i\n",
       "110       expMag_u0\n",
       "126       fracDeV_g\n",
       "127       fracDeV_r\n",
       "125       fracDeV_u\n",
       "61           mCr4_g\n",
       "46            mE1_g\n",
       "51            mE2_g\n",
       "58          mRrCc_i\n",
       "59          mRrCc_z\n",
       "27       petroR50_r\n",
       "25       petroR50_u\n",
       "30       petroR90_u\n",
       "Name: Feature, dtype: object"
      ]
     },
     "execution_count": 9,
     "metadata": {},
     "output_type": "execute_result"
    }
   ],
   "source": [
    "# Features for heatmap:\n",
    "features = pd.concat([features_scores.nlargest(10, 'Score'), feat_importances.nlargest(10, 'Score')])\n",
    "features = features.sort_values('Feature')\n",
    "features['Feature']"
   ]
  },
  {
   "cell_type": "code",
   "execution_count": 10,
   "metadata": {},
   "outputs": [
    {
     "data": {
      "image/png": "[encoded data removed]",
      "text/plain": [
       "<Figure size 1440x1440 with 2 Axes>"
      ]
     },
     "metadata": {
      "needs_background": "light"
     },
     "output_type": "display_data"
    }
   ],
   "source": [
    "# Correlation Matrix with Heatmap\n",
    "corrmat = galaxies[features['Feature']].corr()\n",
    "top_corr_features = corrmat.index\n",
    "plt.figure(figsize=(20,20))\n",
    "g=sns.heatmap(galaxies[top_corr_features].corr(),annot=True,cmap=\"RdYlGn\")"
   ]
  },
  {
   "cell_type": "code",
   "execution_count": 11,
   "metadata": {},
   "outputs": [],
   "source": [
    "# Parameter tuning using GridSearchCV\n",
    "def svc_param_selection(X, y):\n",
    "    Cs = [0.001, 0.01, 0.1, 1, 10]\n",
    "    gammas = [0.001, 0.01, 0.1, 1, 10]\n",
    "    nfolds = 5\n",
    "    param_grid = {'C': Cs, 'gamma': gammas}\n",
    "    grid_search = GridSearchCV(svm.SVC(kernel='rbf'), param_grid, cv=nfolds)\n",
    "    grid_search.fit(X, y)\n",
    "    return grid_search.best_params_"
   ]
  },
  {
   "cell_type": "markdown",
   "metadata": {},
   "source": [
    "### All Features\n",
    "Training ML model on all features of the dataset."
   ]
  },
  {
   "cell_type": "code",
   "execution_count": 12,
   "metadata": {},
   "outputs": [],
   "source": [
    "#The two seperate array used in SVM to construct a predicting model\n",
    "X = galaxies.drop('label',1)\n",
    "y = galaxies['label']"
   ]
  },
  {
   "cell_type": "code",
   "execution_count": 13,
   "metadata": {},
   "outputs": [
    {
     "data": {
      "text/plain": [
       "((460, 135), (460,))"
      ]
     },
     "execution_count": 13,
     "metadata": {},
     "output_type": "execute_result"
    }
   ],
   "source": [
    "# Cross validation\n",
    "X_train, X_test, y_train, y_test = train_test_split(X, y, test_size=0.2, random_state=0)\n",
    "X_train.shape, y_train.shape"
   ]
  },
  {
   "cell_type": "code",
   "execution_count": 14,
   "metadata": {},
   "outputs": [
    {
     "data": {
      "text/plain": [
       "((116, 135), (116,))"
      ]
     },
     "execution_count": 14,
     "metadata": {},
     "output_type": "execute_result"
    }
   ],
   "source": [
    "X_test.shape, y_test.shape"
   ]
  },
  {
   "cell_type": "code",
   "execution_count": 15,
   "metadata": {},
   "outputs": [
    {
     "data": {
      "text/plain": [
       "{'C': 1, 'gamma': 0.001}"
      ]
     },
     "execution_count": 15,
     "metadata": {},
     "output_type": "execute_result"
    }
   ],
   "source": [
    "svc_param_selection(X, y)"
   ]
  },
  {
   "cell_type": "code",
   "execution_count": 16,
   "metadata": {},
   "outputs": [
    {
     "name": "stdout",
     "output_type": "stream",
     "text": [
      "Accuracy: 0.82 (+/- 0.13)\n"
     ]
    }
   ],
   "source": [
    "# Using the default kernel type which is a Gaussian\n",
    "clf = svm.SVC(C=1, gamma=0.001)\n",
    "# Fitting the model and it can now be used to predict labels if we feed it a dataframe with the same columns\n",
    "clf.fit(X_train, y_train)\n",
    "scores = cross_val_score(clf, X_test, y_test, cv=5)\n",
    "print(\"Accuracy: %0.2f (+/- %0.2f)\" % (scores.mean(), scores.std() * 2))"
   ]
  },
  {
   "cell_type": "code",
   "execution_count": 17,
   "metadata": {
    "scrolled": true
   },
   "outputs": [
    {
     "name": "stdout",
     "output_type": "stream",
     "text": [
      "Accuracy: 0.60 (+/- 0.13)\n"
     ]
    }
   ],
   "source": [
    "# Using sigmoid kernel\n",
    "sigmoidModel = svm.SVC(C=1, gamma=0.001, kernel='sigmoid')\n",
    "sigmoidModel.fit(X_train, y_train)\n",
    "scores = cross_val_score(sigmoidModel, X_test, y_test, cv=5)\n",
    "print(\"Accuracy: %0.2f (+/- %0.2f)\" % (scores.mean(), scores.std() * 2))"
   ]
  },
  {
   "cell_type": "code",
   "execution_count": 18,
   "metadata": {
    "scrolled": true
   },
   "outputs": [
    {
     "name": "stdout",
     "output_type": "stream",
     "text": [
      "Accuracy: 0.91 (+/- 0.06)\n"
     ]
    }
   ],
   "source": [
    "# Using polynomial kernel of different degrees\n",
    "polyModel = svm.SVC(C=1, gamma=0.001, kernel='poly', degree=1)\n",
    "polyModel.fit(X_train, y_train)\n",
    "scores = cross_val_score(polyModel, X_test, y_test, cv=5)\n",
    "print(\"Accuracy: %0.2f (+/- %0.2f)\" % (scores.mean(), scores.std() * 2))"
   ]
  },
  {
   "cell_type": "code",
   "execution_count": 19,
   "metadata": {},
   "outputs": [
    {
     "name": "stdout",
     "output_type": "stream",
     "text": [
      "Accuracy: 0.84 (+/- 0.11)\n"
     ]
    }
   ],
   "source": [
    "polyModel = svm.SVC(C=1, gamma=0.001, kernel='poly', degree=2)\n",
    "polyModel.fit(X_train, y_train)\n",
    "scores = cross_val_score(polyModel, X_test, y_test, cv=5)\n",
    "print(\"Accuracy: %0.2f (+/- %0.2f)\" % (scores.mean(), scores.std() * 2))"
   ]
  },
  {
   "cell_type": "code",
   "execution_count": 20,
   "metadata": {},
   "outputs": [],
   "source": [
    "#polyModel = svm.SVC(C=1, gamma=0.001, kernel='poly', degree=3)\n",
    "#polyModel.fit(X_train, y_train)\n",
    "#scores = cross_val_score(polyModel, X_test, y_test, cv=5)\n",
    "#print(\"Accuracy: %0.2f (+/- %0.2f)\" % (scores.mean(), scores.std() * 2))"
   ]
  },
  {
   "cell_type": "markdown",
   "metadata": {},
   "source": [
    "### 10 Best Features and 10 Most Important Features\n",
    "Training the model on 10 of the best scoring features and 10 of most important features."
   ]
  },
  {
   "cell_type": "code",
   "execution_count": 21,
   "metadata": {},
   "outputs": [
    {
     "data": {
      "text/plain": [
       "((460, 20), (460,))"
      ]
     },
     "execution_count": 21,
     "metadata": {},
     "output_type": "execute_result"
    }
   ],
   "source": [
    "X = galaxies[features['Feature']]\n",
    "y = galaxies['label']\n",
    "X_train, X_test, y_train, y_test = train_test_split(X, y, test_size=0.2, random_state=0)\n",
    "X_train.shape, y_train.shape"
   ]
  },
  {
   "cell_type": "code",
   "execution_count": 22,
   "metadata": {
    "scrolled": true
   },
   "outputs": [
    {
     "data": {
      "text/plain": [
       "((116, 20), (116,))"
      ]
     },
     "execution_count": 22,
     "metadata": {},
     "output_type": "execute_result"
    }
   ],
   "source": [
    "X_test.shape, y_test.shape"
   ]
  },
  {
   "cell_type": "code",
   "execution_count": 23,
   "metadata": {},
   "outputs": [
    {
     "data": {
      "text/plain": [
       "{'C': 1, 'gamma': 0.001}"
      ]
     },
     "execution_count": 23,
     "metadata": {},
     "output_type": "execute_result"
    }
   ],
   "source": [
    "svc_param_selection(X, y)"
   ]
  },
  {
   "cell_type": "code",
   "execution_count": 24,
   "metadata": {},
   "outputs": [
    {
     "name": "stdout",
     "output_type": "stream",
     "text": [
      "Accuracy: 0.90 (+/- 0.09)\n"
     ]
    }
   ],
   "source": [
    "clf = svm.SVC(C=1, gamma=0.001)\n",
    "clf.fit(X_train, y_train)\n",
    "scores = cross_val_score(clf, X_test, y_test, cv=5)\n",
    "print(\"Accuracy: %0.2f (+/- %0.2f)\" % (scores.mean(), scores.std() * 2))"
   ]
  },
  {
   "cell_type": "markdown",
   "metadata": {},
   "source": [
    "We see accuracy improvement of 0.03% of the Gaussian kernel after some feature engineering."
   ]
  },
  {
   "cell_type": "code",
   "execution_count": 25,
   "metadata": {},
   "outputs": [
    {
     "name": "stdout",
     "output_type": "stream",
     "text": [
      "Accuracy: 0.67 (+/- 0.04)\n"
     ]
    }
   ],
   "source": [
    "# Using sigmoid kernel\n",
    "sigmoidModel = svm.SVC(C=1, gamma=0.001, kernel='sigmoid')\n",
    "sigmoidModel.fit(X_train, y_train)\n",
    "scores = cross_val_score(sigmoidModel, X_test, y_test, cv=5)\n",
    "print(\"Accuracy: %0.2f (+/- %0.2f)\" % (scores.mean(), scores.std() * 2))"
   ]
  },
  {
   "cell_type": "code",
   "execution_count": 26,
   "metadata": {
    "scrolled": true
   },
   "outputs": [
    {
     "name": "stdout",
     "output_type": "stream",
     "text": [
      "Accuracy: 0.91 (+/- 0.05)\n"
     ]
    }
   ],
   "source": [
    "# Using polynomial kernel of different degrees\n",
    "polyModel = svm.SVC(C=1, gamma=0.001, kernel='poly', degree=1)\n",
    "polyModel.fit(X_train, y_train)\n",
    "scores = cross_val_score(polyModel, X_test, y_test, cv=5)\n",
    "print(\"Accuracy: %0.2f (+/- %0.2f)\" % (scores.mean(), scores.std() * 2))"
   ]
  },
  {
   "cell_type": "code",
   "execution_count": 27,
   "metadata": {},
   "outputs": [],
   "source": [
    "# Model we think have the best overall performance.\n",
    "final_model = polyModel"
   ]
  },
  {
   "cell_type": "code",
   "execution_count": 28,
   "metadata": {},
   "outputs": [
    {
     "name": "stdout",
     "output_type": "stream",
     "text": [
      "Accuracy: 0.83 (+/- 0.11)\n"
     ]
    }
   ],
   "source": [
    "polyModel = svm.SVC(C=1, gamma=0.001, kernel='poly', degree=2)\n",
    "polyModel.fit(X_train, y_train)\n",
    "scores = cross_val_score(polyModel, X_test, y_test, cv=5)\n",
    "print(\"Accuracy: %0.2f (+/- %0.2f)\" % (scores.mean(), scores.std() * 2))"
   ]
  },
  {
   "cell_type": "code",
   "execution_count": 29,
   "metadata": {},
   "outputs": [],
   "source": [
    "# Takes a really long time...\n",
    "#polyModel = svm.SVC(C=1, gamma=0.001, kernel='poly', degree=3)\n",
    "#polyModel.fit(X_train, y_train)\n",
    "#scores = cross_val_score(polyModel, X_test, y_test, cv=5)\n",
    "#print(\"Accuracy: %0.2f (+/- %0.2f)\" % (scores.mean(), scores.std() * 2))"
   ]
  },
  {
   "cell_type": "markdown",
   "metadata": {},
   "source": [
    "### 10 Best Features\n",
    "Training the ML model on the 5 best features gives the same accuracy score as training the moddel on the 10 best features."
   ]
  },
  {
   "cell_type": "code",
   "execution_count": 30,
   "metadata": {},
   "outputs": [],
   "source": [
    "X = galaxies[features_scores.nlargest(10, 'Score')['Feature']]\n",
    "y = galaxies['label']"
   ]
  },
  {
   "cell_type": "code",
   "execution_count": 31,
   "metadata": {
    "scrolled": true
   },
   "outputs": [
    {
     "data": {
      "text/plain": [
       "((460, 10), (460,))"
      ]
     },
     "execution_count": 31,
     "metadata": {},
     "output_type": "execute_result"
    }
   ],
   "source": [
    "# Cross validation\n",
    "X_train, X_test, y_train, y_test = train_test_split(X, y, test_size=0.2, random_state=0)\n",
    "X_train.shape, y_train.shape"
   ]
  },
  {
   "cell_type": "code",
   "execution_count": 32,
   "metadata": {},
   "outputs": [
    {
     "data": {
      "text/plain": [
       "((116, 10), (116,))"
      ]
     },
     "execution_count": 32,
     "metadata": {},
     "output_type": "execute_result"
    }
   ],
   "source": [
    "X_test.shape, y_test.shape"
   ]
  },
  {
   "cell_type": "code",
   "execution_count": 33,
   "metadata": {
    "scrolled": false
   },
   "outputs": [
    {
     "data": {
      "text/plain": [
       "{'C': 1, 'gamma': 0.001}"
      ]
     },
     "execution_count": 33,
     "metadata": {},
     "output_type": "execute_result"
    }
   ],
   "source": [
    "svc_param_selection(X, y)"
   ]
  },
  {
   "cell_type": "code",
   "execution_count": 34,
   "metadata": {},
   "outputs": [
    {
     "name": "stdout",
     "output_type": "stream",
     "text": [
      "Accuracy: 0.90 (+/- 0.09)\n"
     ]
    }
   ],
   "source": [
    "clf = svm.SVC(C=1, gamma=0.001)\n",
    "clf.fit(X_train, y_train)\n",
    "scores = cross_val_score(clf, X_test, y_test, cv=5)\n",
    "print(\"Accuracy: %0.2f (+/- %0.2f)\" % (scores.mean(), scores.std() * 2))"
   ]
  },
  {
   "cell_type": "code",
   "execution_count": 35,
   "metadata": {},
   "outputs": [
    {
     "name": "stdout",
     "output_type": "stream",
     "text": [
      "Accuracy: 0.67 (+/- 0.04)\n"
     ]
    }
   ],
   "source": [
    "# Using sigmoid kernel\n",
    "sigmoidModel = svm.SVC(C=1, gamma=0.001, kernel='sigmoid')\n",
    "sigmoidModel.fit(X_train, y_train)\n",
    "scores = cross_val_score(sigmoidModel, X_test, y_test, cv=5)\n",
    "print(\"Accuracy: %0.2f (+/- %0.2f)\" % (scores.mean(), scores.std() * 2))"
   ]
  },
  {
   "cell_type": "code",
   "execution_count": 36,
   "metadata": {},
   "outputs": [
    {
     "name": "stdout",
     "output_type": "stream",
     "text": [
      "Accuracy: 0.85 (+/- 0.09)\n"
     ]
    }
   ],
   "source": [
    "# Using polynomial kernel of different degrees\n",
    "polyModel = svm.SVC(C=1, gamma=0.001, kernel='poly', degree=1)\n",
    "polyModel.fit(X_train, y_train)\n",
    "scores = cross_val_score(polyModel, X_test, y_test, cv=5)\n",
    "print(\"Accuracy: %0.2f (+/- %0.2f)\" % (scores.mean(), scores.std() * 2))"
   ]
  },
  {
   "cell_type": "code",
   "execution_count": 37,
   "metadata": {},
   "outputs": [
    {
     "name": "stdout",
     "output_type": "stream",
     "text": [
      "Accuracy: 0.87 (+/- 0.01)\n"
     ]
    }
   ],
   "source": [
    "polyModel = svm.SVC(C=1, gamma=0.001, kernel='poly', degree=2)\n",
    "polyModel.fit(X_train, y_train)\n",
    "scores = cross_val_score(polyModel, X_test, y_test, cv=5)\n",
    "print(\"Accuracy: %0.2f (+/- %0.2f)\" % (scores.mean(), scores.std() * 2))"
   ]
  },
  {
   "cell_type": "markdown",
   "metadata": {},
   "source": [
    "### 10 Most Important Features"
   ]
  },
  {
   "cell_type": "code",
   "execution_count": 38,
   "metadata": {},
   "outputs": [],
   "source": [
    "X = galaxies[feat_importances.nlargest(10, 'Score')['Feature']]\n",
    "y = galaxies['label']"
   ]
  },
  {
   "cell_type": "code",
   "execution_count": 39,
   "metadata": {},
   "outputs": [
    {
     "data": {
      "text/plain": [
       "((460, 10), (460,))"
      ]
     },
     "execution_count": 39,
     "metadata": {},
     "output_type": "execute_result"
    }
   ],
   "source": [
    "# Cross validation\n",
    "X_train, X_test, y_train, y_test = train_test_split(X, y, test_size=0.2, random_state=0)\n",
    "X_train.shape, y_train.shape"
   ]
  },
  {
   "cell_type": "code",
   "execution_count": 40,
   "metadata": {},
   "outputs": [
    {
     "data": {
      "text/plain": [
       "((116, 10), (116,))"
      ]
     },
     "execution_count": 40,
     "metadata": {},
     "output_type": "execute_result"
    }
   ],
   "source": [
    "X_test.shape, y_test.shape"
   ]
  },
  {
   "cell_type": "code",
   "execution_count": 41,
   "metadata": {
    "scrolled": true
   },
   "outputs": [
    {
     "data": {
      "text/plain": [
       "{'C': 10, 'gamma': 0.01}"
      ]
     },
     "execution_count": 41,
     "metadata": {},
     "output_type": "execute_result"
    }
   ],
   "source": [
    "svc_param_selection(X, y)"
   ]
  },
  {
   "cell_type": "code",
   "execution_count": 42,
   "metadata": {},
   "outputs": [
    {
     "name": "stdout",
     "output_type": "stream",
     "text": [
      "Accuracy: 0.87 (+/- 0.10)\n"
     ]
    }
   ],
   "source": [
    "clf = svm.SVC(C=10, gamma=0.001)\n",
    "clf.fit(X_train, y_train)\n",
    "scores = cross_val_score(clf, X_test, y_test, cv=5)\n",
    "print(\"Accuracy: %0.2f (+/- %0.2f)\" % (scores.mean(), scores.std() * 2))"
   ]
  },
  {
   "cell_type": "code",
   "execution_count": 43,
   "metadata": {},
   "outputs": [
    {
     "name": "stdout",
     "output_type": "stream",
     "text": [
      "Accuracy: 0.40 (+/- 0.14)\n"
     ]
    }
   ],
   "source": [
    "# Using sigmoid kernel\n",
    "sigmoidModel = svm.SVC(C=10, gamma=0.001, kernel='sigmoid')\n",
    "sigmoidModel.fit(X_train, y_train)\n",
    "scores = cross_val_score(sigmoidModel, X_test, y_test, cv=5)\n",
    "print(\"Accuracy: %0.2f (+/- %0.2f)\" % (scores.mean(), scores.std() * 2))"
   ]
  },
  {
   "cell_type": "code",
   "execution_count": 44,
   "metadata": {},
   "outputs": [
    {
     "name": "stdout",
     "output_type": "stream",
     "text": [
      "Accuracy: 0.86 (+/- 0.10)\n"
     ]
    }
   ],
   "source": [
    "# Using polynomial kernel of different degrees\n",
    "polyModel = svm.SVC(C=10, gamma=0.001, kernel='poly', degree=1)\n",
    "polyModel.fit(X_train, y_train)\n",
    "scores = cross_val_score(polyModel, X_test, y_test, cv=5)\n",
    "print(\"Accuracy: %0.2f (+/- %0.2f)\" % (scores.mean(), scores.std() * 2))"
   ]
  },
  {
   "cell_type": "code",
   "execution_count": 45,
   "metadata": {},
   "outputs": [
    {
     "name": "stdout",
     "output_type": "stream",
     "text": [
      "Accuracy: 0.87 (+/- 0.14)\n"
     ]
    }
   ],
   "source": [
    "polyModel = svm.SVC(C=10, gamma=0.001, kernel='poly', degree=2)\n",
    "polyModel.fit(X_train, y_train)\n",
    "scores = cross_val_score(polyModel, X_test, y_test, cv=5)\n",
    "print(\"Accuracy: %0.2f (+/- %0.2f)\" % (scores.mean(), scores.std() * 2))"
   ]
  },
  {
   "cell_type": "markdown",
   "metadata": {},
   "source": [
    "### 20 Most Important Features"
   ]
  },
  {
   "cell_type": "code",
   "execution_count": 46,
   "metadata": {},
   "outputs": [],
   "source": [
    "X = galaxies[feat_importances.nlargest(20, 'Score')['Feature']]\n",
    "y = galaxies['label']"
   ]
  },
  {
   "cell_type": "code",
   "execution_count": 47,
   "metadata": {},
   "outputs": [
    {
     "data": {
      "text/plain": [
       "((460, 20), (460,))"
      ]
     },
     "execution_count": 47,
     "metadata": {},
     "output_type": "execute_result"
    }
   ],
   "source": [
    "# Cross validation\n",
    "X_train, X_test, y_train, y_test = train_test_split(X, y, test_size=0.2, random_state=0)\n",
    "X_train.shape, y_train.shape"
   ]
  },
  {
   "cell_type": "code",
   "execution_count": 48,
   "metadata": {},
   "outputs": [
    {
     "data": {
      "text/plain": [
       "((116, 20), (116,))"
      ]
     },
     "execution_count": 48,
     "metadata": {},
     "output_type": "execute_result"
    }
   ],
   "source": [
    "X_test.shape, y_test.shape"
   ]
  },
  {
   "cell_type": "code",
   "execution_count": 49,
   "metadata": {
    "scrolled": true
   },
   "outputs": [
    {
     "data": {
      "text/plain": [
       "{'C': 10, 'gamma': 0.01}"
      ]
     },
     "execution_count": 49,
     "metadata": {},
     "output_type": "execute_result"
    }
   ],
   "source": [
    "svc_param_selection(X, y)"
   ]
  },
  {
   "cell_type": "code",
   "execution_count": 50,
   "metadata": {},
   "outputs": [
    {
     "name": "stdout",
     "output_type": "stream",
     "text": [
      "Accuracy: 0.88 (+/- 0.07)\n"
     ]
    }
   ],
   "source": [
    "clf = svm.SVC(C=10, gamma=0.01)\n",
    "clf.fit(X_train, y_train)\n",
    "scores = cross_val_score(clf, X_test, y_test, cv=5)\n",
    "print(\"Accuracy: %0.2f (+/- %0.2f)\" % (scores.mean(), scores.std() * 2))"
   ]
  },
  {
   "cell_type": "code",
   "execution_count": 51,
   "metadata": {},
   "outputs": [
    {
     "name": "stdout",
     "output_type": "stream",
     "text": [
      "Accuracy: 0.68 (+/- 0.03)\n"
     ]
    }
   ],
   "source": [
    "# Using sigmoid kernel\n",
    "sigmoidModel = svm.SVC(C=10, gamma=0.01, kernel='sigmoid')\n",
    "sigmoidModel.fit(X_train, y_train)\n",
    "scores = cross_val_score(sigmoidModel, X_test, y_test, cv=5)\n",
    "print(\"Accuracy: %0.2f (+/- %0.2f)\" % (scores.mean(), scores.std() * 2))"
   ]
  },
  {
   "cell_type": "code",
   "execution_count": 52,
   "metadata": {},
   "outputs": [
    {
     "name": "stdout",
     "output_type": "stream",
     "text": [
      "Accuracy: 0.93 (+/- 0.07)\n"
     ]
    }
   ],
   "source": [
    "# Using polynomial kernel of different degrees\n",
    "polyModel = svm.SVC(C=10, gamma=0.01, kernel='poly', degree=1)\n",
    "polyModel.fit(X_train, y_train)\n",
    "scores = cross_val_score(polyModel, X_test, y_test, cv=5)\n",
    "print(\"Accuracy: %0.2f (+/- %0.2f)\" % (scores.mean(), scores.std() * 2))"
   ]
  },
  {
   "cell_type": "code",
   "execution_count": 53,
   "metadata": {},
   "outputs": [
    {
     "name": "stdout",
     "output_type": "stream",
     "text": [
      "Accuracy: 0.89 (+/- 0.11)\n"
     ]
    }
   ],
   "source": [
    "polyModel = svm.SVC(C=10, gamma=0.01, kernel='poly', degree=2)\n",
    "polyModel.fit(X_train, y_train)\n",
    "scores = cross_val_score(polyModel, X_test, y_test, cv=5)\n",
    "print(\"Accuracy: %0.2f (+/- %0.2f)\" % (scores.mean(), scores.std() * 2))"
   ]
  },
  {
   "cell_type": "code",
   "execution_count": 70,
   "metadata": {},
   "outputs": [],
   "source": [
    "#We now grab the test data which is the Perseus cluster csv file retrieved from SDSS\n",
    "#base_test = pd.read_csv('./datasets/test/perseus.csv')\n",
    "\n",
    "#Strip all the unusefull data and format it to be usefull in SDSS CrossID\n",
    "#cross_id_test = base_test\n",
    "\n",
    "#Export formated file to be used in SDSS CrossID\n",
    "#cross_id_test.to_csv(r'./machine-learning-sets/testData_crossID.csv', index=False)\n",
    "\n",
    "#After doing CrossID, importing the Testing Dataset\n",
    "#test_Data = pd.read_csv('./machine-learning-sets/testData_crossID.csv')\n",
    "\n",
    "#Droping the unuseful objID that comes with CrossID\n",
    "#test_Data = test_Data.drop(['ra','dec'], axis=1)\n",
    "\n",
    "#test_Data.head()"
   ]
  },
  {
   "cell_type": "code",
   "execution_count": 71,
   "metadata": {},
   "outputs": [],
   "source": [
    "#Time for the predict, remember that 1 means foreground and 0 means background\n",
    "#clf = model.predict(test_Data)\n",
    "#scores = cross_val_score(clf, iris.data, iris.target, cv=5)\n",
    "#print('Number of foregrounds with gauss kernel: {}'.format(np.count_nonzero(clf == 1)))\n",
    "#print('Number of backgrounds with gauss kernel: {}'.format(np.count_nonzero(clf == 0)))"
   ]
  },
  {
   "cell_type": "code",
   "execution_count": 72,
   "metadata": {},
   "outputs": [],
   "source": [
    "#Iteration of the model using the sigmoid kernel rather than the rbf gaussian one\n",
    "#sigmoidModel = svm.SVC(gamma='auto', kernel='sigmoid')\n",
    "#sigmoidModel.fit(samples,labels)\n",
    "#sigResults = sigmoidModel.predict(test_Data)\n",
    "#print('Number of foregrounds with sigmoid kernel: {}'.format(np.count_nonzero(sigResults == 1)))\n",
    "#print('Number of backgrounds with sigmoid kernel: {}'.format(np.count_nonzero(sigResults == 0)))"
   ]
  },
  {
   "cell_type": "code",
   "execution_count": 73,
   "metadata": {},
   "outputs": [],
   "source": [
    "#Iteration of the model using a polynomial kernel of degree, d\n",
    "#d = 5\n",
    "#for n in range(1,d+1):\n",
    "#    polyModel = svm.SVC(gamma='auto', kernel='poly', degree=n)\n",
    "#    polyModel.fit(samples,labels)\n",
    "#    polyResults = polyModel.predict(test_Data)\n",
    "#    print('Number of foregrounds with poly kernel at degree {}: {}'.format(n,np.count_nonzero(polyResults == 1)))\n",
    "#    print('Number of backgrounds with poly kernel degree {}: {}'.format(n,np.count_nonzero(polyResults == 0)))\n",
    "#    print('----------------------------------------------------------------------------------------------------')"
   ]
  }
 ],
 "metadata": {
  "kernelspec": {
   "display_name": "Python 3",
   "language": "python",
   "name": "python3"
  },
  "language_info": {
   "codemirror_mode": {
    "name": "ipython",
    "version": 3
   },
   "file_extension": ".py",
   "mimetype": "text/x-python",
   "name": "python",
   "nbconvert_exporter": "python",
   "pygments_lexer": "ipython3",
   "version": "3.6.8"
  }
 },
 "nbformat": 4,
 "nbformat_minor": 2
}
